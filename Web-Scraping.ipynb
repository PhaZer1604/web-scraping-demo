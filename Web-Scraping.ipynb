{
 "cells": [
  {
   "cell_type": "code",
   "execution_count": 1,
   "id": "117daf11",
   "metadata": {},
   "outputs": [],
   "source": [
    "import pandas as pd\n",
    "import requests\n",
    "from bs4 import BeautifulSoup"
   ]
  },
  {
   "cell_type": "code",
   "execution_count": 2,
   "id": "9bdcf6a6",
   "metadata": {},
   "outputs": [],
   "source": [
    "# Web Scarping using downloaded html file of a website\n",
    "\n",
    "# Open file and parse it using BeautifulSoup\n",
    "with open('index.html', 'r', encoding='utf-8') as f:\n",
    "    soup = BeautifulSoup(f.read(), 'html.parser')"
   ]
  },
  {
   "cell_type": "code",
   "execution_count": 3,
   "id": "da6738f9",
   "metadata": {},
   "outputs": [],
   "source": [
    "companies = soup.find_all('div', class_='company-content-wrapper')"
   ]
  },
  {
   "cell_type": "code",
   "execution_count": 4,
   "id": "7f87c691",
   "metadata": {},
   "outputs": [],
   "source": [
    "names = []\n",
    "ratings = []\n",
    "\n",
    "for company in companies:\n",
    "    name_element = company.find('h2', class_='company-name bold-title-l')\n",
    "    if name_element:\n",
    "        name = name_element.text.strip()\n",
    "    else:\n",
    "        name = ''\n",
    "    rating_element = company.find('p', class_='rating')\n",
    "    if rating_element:\n",
    "        rating = rating_element.text.strip()\n",
    "    else:\n",
    "        rating = ''\n",
    "    \n",
    "    names.append(name)\n",
    "    ratings.append(rating)"
   ]
  },
  {
   "cell_type": "code",
   "execution_count": 5,
   "id": "7cdd1c56",
   "metadata": {},
   "outputs": [
    {
     "name": "stdout",
     "output_type": "stream",
     "text": [
      "                       name rating\n",
      "0                       TCS    3.9\n",
      "1                 Accenture    4.1\n",
      "2                 Cognizant    3.9\n",
      "3                ICICI Bank    4.1\n",
      "4                     Wipro    3.9\n",
      "5                 HDFC Bank    4.0\n",
      "6                   Infosys    3.9\n",
      "7                 Capgemini    3.9\n",
      "8             Tech Mahindra    3.7\n",
      "9                   Genpact    4.0\n",
      "10                  HCLTech    3.8\n",
      "11                   Amazon    4.2\n",
      "12                Axis Bank    3.9\n",
      "13   Concentrix Corporation    4.0\n",
      "14                      IBM    4.1\n",
      "15             Reliance Jio    4.0\n",
      "16  Larsen & Toubro Limited    4.0\n",
      "17   HDB Financial Services    4.0\n",
      "18            Vodafone Idea    4.2\n",
      "19          Teleperformance    3.6\n",
      "20          Reliance Retail    4.2\n",
      "21      Kotak Mahindra Bank    3.9\n",
      "22                 Deloitte    4.1\n",
      "23      Reliance Industries    4.1\n",
      "24                   BYJU'S    3.3\n",
      "25            Bharti Airtel    4.1\n",
      "26              Tata Motors    4.2\n",
      "27                 Flipkart    4.2\n",
      "28                      WNS    3.7\n",
      "29            IndusInd Bank    3.8\n"
     ]
    }
   ],
   "source": [
    "df = pd.DataFrame({'name': names, 'rating': ratings})\n",
    "print(df)"
   ]
  },
  {
   "cell_type": "code",
   "execution_count": 6,
   "id": "54012664",
   "metadata": {},
   "outputs": [
    {
     "name": "stdout",
     "output_type": "stream",
     "text": [
      "\r\n",
      "\tGoogle CEO, Sundar Pichai, has hinted at another round of layoffs at Google. In January this year, Google decided to fire six per cent of its workforce, leaving 12,000 Googlers without a job.\r\n",
      "\n",
      "\r\n",
      "\tSundar Pichai was speaking with the Wall Street Journal when he hinted towards more layoffs. However, he did not directly address the subject.\n",
      "\n",
      "\r\n",
      "\tHe also discussed Google's work in the artificial intelligence (AI) domain. He said that Google's chatbot Bard was being integrated into products like Gmail and Google Docs to increase efficiency.\r\n",
      "\t \r\n",
      "\r\n",
      "\tHe said, \"We're very, very focused on this set of opportunities we have, and I think there's a lot of work left. There's also an important inflection point with AI. Where we can, we are definitely prioritizing and moving people to our most important areas, so that is ongoing work.\"\n",
      "\n",
      "\r\n",
      "\tSundar Pichai said they were looking into every aspect of Google's work and taking steps to re-engineer its cost base permanently. He said that Google aims to increase its efficiency by 20 per cent. He stressed that Google needs to build upon the improvements it has made in recent times.\r\n",
      "\t \r\n",
      "\r\n",
      "\tHe added that job cuts were made after careful consideration. He said, \"We've decided to reduce our workforce by approximately 12,000 roles. We've already sent a separate email to employees in the US who are affected. In other countries, this process will take longer due to local laws and practices.\"Also ReadGoogle gearing up for another round of layoffs? Here's what CEO Pichai saysSundar Pichai pushes Googlers to spend more time improving its Bard AISundar Pichai coming to India; govt to discuss 'Made in India' Pixel phonesBig Tech and 'sideloading' debate; IT firms fear security, privacy breachesTop Headlines: India in green bond mkt, Pichai says job cuts avoided worseClient conversations dominated by ChatGPT, says TCS COO SubramaniamTruecaller Live Caller ID now available for premium subscribers on iPhonesPrompt engineering skills: A possible cure on new automation anxietySwiss Re Group sees India units taking lead owing to more senior rolesMost Indians still store financial passwords in smartphones, says report\n",
      "\n",
      "\r\n",
      "\tEarlier, Google fired around 450 employees in its India offices. Employees across departments were laid off in February.\n",
      "\n",
      "\r\n",
      "\t\tAmid economic uncertainties, tech firms worldwide have been cutting jobs to 'rationalise' their operations and bring in efficiency. To this end, large technology firms like Amazon, Meta, and Microsoft have cut jobs in large numbers.\r\n",
      "\t\n",
      "\r\n",
      "\t\tAmazon has announced 27,000 layoffs in two rounds. In November 2022, Facebook parent Meta announced it was laying off 11,000 employees. This was followed by another 10,000 layoffs, announced in March this year.\n",
      "\r\n",
      "\tGoogle CEO, Sundar Pichai, has hinted at another round of layoffs at Google. In January this year, Google decided to fire six per cent of its workforce, leaving 12,000 Googlers without a job.\r\n",
      "\n",
      "\r\n",
      "\tSundar Pichai was speaking with the Wall Street Journal when he hinted towards more layoffs. However, he did not directly address the subject.\r\n",
      "\tSundar Pichai was speaking with the Wall Street Journal when he hinted towards more layoffs. However, he did not directly address the subject.\r\n",
      "\tHe also discussed Google's work in the artificial intelligence (AI) domain. He said that Google's chatbot Bard was being integrated into products like Gmail and Google Docs to increase efficiency.\r\n",
      "\t \r\n",
      "\r\n",
      "\tHe said, \"We're very, very focused on this set of opportunities we have, and I think there's a lot of work left. There's also an important inflection point with AI. Where we can, we are definitely prioritizing and moving people to our most important areas, so that is ongoing work.\"\r\n",
      "\tHe said, \"We're very, very focused on this set of opportunities we have, and I think there's a lot of work left. There's also an important inflection point with AI. Where we can, we are definitely prioritizing and moving people to our most important areas, so that is ongoing work.\"\r\n",
      "\tSundar Pichai said they were looking into every aspect of Google's work and taking steps to re-engineer its cost base permanently. He said that Google aims to increase its efficiency by 20 per cent. He stressed that Google needs to build upon the improvements it has made in recent times.\r\n",
      "\t \r\n",
      "\r\n",
      "\tHe added that job cuts were made after careful consideration. He said, \"We've decided to reduce our workforce by approximately 12,000 roles. We've already sent a separate email to employees in the US who are affected. In other countries, this process will take longer due to local laws and practices.\"\r\n",
      "\tHe added that job cuts were made after careful consideration. He said, \"We've decided to reduce our workforce by approximately 12,000 roles. We've already sent a separate email to employees in the US who are affected. In other countries, this process will take longer due to local laws and practices.\"Also ReadGoogle gearing up for another round of layoffs? Here's what CEO Pichai saysSundar Pichai pushes Googlers to spend more time improving its Bard AISundar Pichai coming to India; govt to discuss 'Made in India' Pixel phonesBig Tech and 'sideloading' debate; IT firms fear security, privacy breachesTop Headlines: India in green bond mkt, Pichai says job cuts avoided worseClient conversations dominated by ChatGPT, says TCS COO SubramaniamTruecaller Live Caller ID now available for premium subscribers on iPhonesPrompt engineering skills: A possible cure on new automation anxietySwiss Re Group sees India units taking lead owing to more senior rolesMost Indians still store financial passwords in smartphones, says reportAlso ReadGoogle gearing up for another round of layoffs? Here's what CEO Pichai saysSundar Pichai pushes Googlers to spend more time improving its Bard AISundar Pichai coming to India; govt to discuss 'Made in India' Pixel phonesBig Tech and 'sideloading' debate; IT firms fear security, privacy breachesTop Headlines: India in green bond mkt, Pichai says job cuts avoided worseClient conversations dominated by ChatGPT, says TCS COO SubramaniamTruecaller Live Caller ID now available for premium subscribers on iPhonesPrompt engineering skills: A possible cure on new automation anxietySwiss Re Group sees India units taking lead owing to more senior rolesMost Indians still store financial passwords in smartphones, says reportAlso ReadGoogle gearing up for another round of layoffs? Here's what CEO Pichai saysSundar Pichai pushes Googlers to spend more time improving its Bard AISundar Pichai coming to India; govt to discuss 'Made in India' Pixel phonesBig Tech and 'sideloading' debate; IT firms fear security, privacy breachesTop Headlines: India in green bond mkt, Pichai says job cuts avoided worseClient conversations dominated by ChatGPT, says TCS COO SubramaniamTruecaller Live Caller ID now available for premium subscribers on iPhonesPrompt engineering skills: A possible cure on new automation anxietySwiss Re Group sees India units taking lead owing to more senior rolesMost Indians still store financial passwords in smartphones, says reportAlso ReadGoogle gearing up for another round of layoffs? Here's what CEO Pichai saysSundar Pichai pushes Googlers to spend more time improving its Bard AISundar Pichai coming to India; govt to discuss 'Made in India' Pixel phonesBig Tech and 'sideloading' debate; IT firms fear security, privacy breachesTop Headlines: India in green bond mkt, Pichai says job cuts avoided worseClient conversations dominated by ChatGPT, says TCS COO SubramaniamTruecaller Live Caller ID now available for premium subscribers on iPhonesPrompt engineering skills: A possible cure on new automation anxietySwiss Re Group sees India units taking lead owing to more senior rolesMost Indians still store financial passwords in smartphones, says reportGoogle gearing up for another round of layoffs? Here's what CEO Pichai saysGoogle gearing up for another round of layoffs? Here's what CEO Pichai saysSundar Pichai pushes Googlers to spend more time improving its Bard AISundar Pichai pushes Googlers to spend more time improving its Bard AISundar Pichai coming to India; govt to discuss 'Made in India' Pixel phonesSundar Pichai coming to India; govt to discuss 'Made in India' Pixel phonesBig Tech and 'sideloading' debate; IT firms fear security, privacy breachesBig Tech and 'sideloading' debate; IT firms fear security, privacy breachesTop Headlines: India in green bond mkt, Pichai says job cuts avoided worseTop Headlines: India in green bond mkt, Pichai says job cuts avoided worseClient conversations dominated by ChatGPT, says TCS COO SubramaniamClient conversations dominated by ChatGPT, says TCS COO SubramaniamTruecaller Live Caller ID now available for premium subscribers on iPhonesTruecaller Live Caller ID now available for premium subscribers on iPhonesPrompt engineering skills: A possible cure on new automation anxietyPrompt engineering skills: A possible cure on new automation anxietySwiss Re Group sees India units taking lead owing to more senior rolesSwiss Re Group sees India units taking lead owing to more senior rolesMost Indians still store financial passwords in smartphones, says reportMost Indians still store financial passwords in smartphones, says report\r\n",
      "\tEarlier, Google fired around 450 employees in its India offices. Employees across departments were laid off in February.\n",
      "\n",
      "\r\n",
      "\t\tAmid economic uncertainties, tech firms worldwide have been cutting jobs to 'rationalise' their operations and bring in efficiency. To this end, large technology firms like Amazon, Meta, and Microsoft have cut jobs in large numbers.\r\n",
      "\t\n",
      "\r\n",
      "\t\tAmazon has announced 27,000 layoffs in two rounds. In November 2022, Facebook parent Meta announced it was laying off 11,000 employees. This was followed by another 10,000 layoffs, announced in March this year.\r\n",
      "\t\tAmid economic uncertainties, tech firms worldwide have been cutting jobs to 'rationalise' their operations and bring in efficiency. To this end, large technology firms like Amazon, Meta, and Microsoft have cut jobs in large numbers.\r\n",
      "\t\n",
      "\r\n",
      "\t\tAmazon has announced 27,000 layoffs in two rounds. In November 2022, Facebook parent Meta announced it was laying off 11,000 employees. This was followed by another 10,000 layoffs, announced in March this year.\r\n",
      "\t\tAmazon has announced 27,000 layoffs in two rounds. In November 2022, Facebook parent Meta announced it was laying off 11,000 employees. This was followed by another 10,000 layoffs, announced in March this year.\n"
     ]
    }
   ],
   "source": [
    "# Web Scraping using URL\n",
    "\n",
    "# Send a GET request to the URL\n",
    "url = \"https://www.business-standard.com/technology/tech-news/google-ceo-sundar-pichai-hints-at-more-layoffs-wants-to-ensure-efficiency-123041300343_1.html\"\n",
    "response = requests.get(url)\n",
    "\n",
    "# Parse the response using BeautifulSoup\n",
    "soup = BeautifulSoup(response.text, \"html.parser\")\n",
    "\n",
    "# Find the div with class 'article-body__content__17Yit paywall-article'\n",
    "div = soup.find(\"div\", class_=\"storycontent\")\n",
    "\n",
    "# Extract all <p> tag data and concatenate it into a text variable\n",
    "text = \"\"\n",
    "for p in div.find_all(\"div\"):\n",
    "    text += p.get_text()\n",
    "\n",
    "print(text)\n"
   ]
  },
  {
   "cell_type": "code",
   "execution_count": null,
   "id": "36b34f17",
   "metadata": {},
   "outputs": [],
   "source": []
  }
 ],
 "metadata": {
  "kernelspec": {
   "display_name": "Python 3 (ipykernel)",
   "language": "python",
   "name": "python3"
  },
  "language_info": {
   "codemirror_mode": {
    "name": "ipython",
    "version": 3
   },
   "file_extension": ".py",
   "mimetype": "text/x-python",
   "name": "python",
   "nbconvert_exporter": "python",
   "pygments_lexer": "ipython3",
   "version": "3.10.9"
  }
 },
 "nbformat": 4,
 "nbformat_minor": 5
}
